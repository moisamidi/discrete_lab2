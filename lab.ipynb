{
 "cells": [
  {
   "attachments": {},
   "cell_type": "markdown",
   "metadata": {},
   "source": [
    "# Лабораторна робота №2"
   ]
  },
  {
   "attachments": {},
   "cell_type": "markdown",
   "metadata": {},
   "source": [
    "## Розподіл роботи\n",
    "\n",
    "Алгоритм Гафмана і LZW - Яремко Аня\\\n",
    "Алгоритм LZ77, Deflate і звіт - Еліосов Михайло"
   ]
  },
  {
   "attachments": {},
   "cell_type": "markdown",
   "metadata": {},
   "source": [
    "## Тестові функції"
   ]
  },
  {
   "attachments": {},
   "cell_type": "markdown",
   "metadata": {},
   "source": [
    "Рандомний розподіл літер"
   ]
  },
  {
   "attachments": {},
   "cell_type": "markdown",
   "metadata": {},
   "source": [
    "## Алгоритм Гафмана"
   ]
  },
  {
   "cell_type": "code",
   "execution_count": 44,
   "metadata": {},
   "outputs": [],
   "source": [
    "class Node:\n",
    "    '''\n",
    "    A node class for the Huffman tree\n",
    "    '''\n",
    "\n",
    "    def __init__(self, frequency, letter=None, left=None, right=None):\n",
    "        self.frequency = frequency\n",
    "        self.letter = letter\n",
    "        self.code = ''\n",
    "        self.left = left\n",
    "        self.right = right\n",
    "\n",
    "\n",
    "class Huffman:\n",
    "    '''\n",
    "    Implements the Huffman algorithm\n",
    "    '''\n",
    "\n",
    "    def __init__(self):\n",
    "        self.tree_root = None\n",
    "        self.codes = {}\n",
    "\n",
    "    def probabilities(self, text: str) -> list:\n",
    "        '''\n",
    "        Returns a list of leaf nodes\n",
    "        '''\n",
    "        probs = {}\n",
    "        for symbol in text:\n",
    "            if symbol not in probs:\n",
    "                probs[symbol] = 1\n",
    "            else:\n",
    "                probs[symbol] += 1\n",
    "        return sorted([Node(letter=letter, frequency=amount/len(text))\n",
    "                       for letter, amount in probs.items()],\n",
    "                      key=lambda node: node.frequency, reverse=True)\n",
    "\n",
    "    def make_tree(self, probs) -> None:\n",
    "        '''\n",
    "        Makes a Huffman tree\n",
    "        '''\n",
    "        while len(probs) > 2:\n",
    "            probs.sort(key=lambda node: node.frequency, reverse=True)\n",
    "            first = probs[-1]\n",
    "            second = probs[-2]\n",
    "            probs = probs[:-2]\n",
    "            probs.append(\n",
    "                Node(frequency=first.frequency+second.frequency, left=first, right=second),)\n",
    "        probs.sort(key=lambda node: node.frequency, reverse=True)\n",
    "        first = probs[-1]\n",
    "        second = probs[-2]\n",
    "        self.tree_root = Node(frequency=first.frequency +\n",
    "                              second.frequency, left=first, right=second)\n",
    "\n",
    "    def create_codes(self, node: Node, code: str = '') -> None:\n",
    "        '''\n",
    "        Creates a codes dict for the given tree\n",
    "        '''\n",
    "        if node.left and node.right:\n",
    "            self.create_codes(node.left, code+'0')\n",
    "            self.create_codes(node.right, code+'1')\n",
    "        else:\n",
    "            self.codes[node.letter] = code\n",
    "            node.code = code\n",
    "\n",
    "    def encode(self, text: str) -> str:\n",
    "        '''\n",
    "        Encodes text\n",
    "        '''\n",
    "        self.tree_root = None\n",
    "        self.codes = {}\n",
    "        probs = self.probabilities(text)\n",
    "        if len(probs) == 1:\n",
    "            self.tree_root = probs[0]\n",
    "            self.tree_root.code = '0'\n",
    "            self.codes[self.tree_root.letter] = '0'\n",
    "        else:\n",
    "            self.make_tree(probs)\n",
    "            self.create_codes(self.tree_root)\n",
    "        code_table = text.maketrans(self.codes)\n",
    "        return text.translate(code_table)\n",
    "\n",
    "    def decode(self, code: str) -> str:\n",
    "        '''\n",
    "        Decodes a string\n",
    "        '''\n",
    "        decoded_text = ''\n",
    "        node = self.tree_root\n",
    "        for bit in code:\n",
    "            if not (node.right and node.left):  # single letter string case\n",
    "                decoded_text += node.letter\n",
    "                node = self.tree_root\n",
    "                continue\n",
    "            if bit == '1':\n",
    "                node = node.right\n",
    "            else:\n",
    "                node = node.left\n",
    "            if not (node.right and node.left):\n",
    "                decoded_text += node.letter\n",
    "                node = self.tree_root\n",
    "        return decoded_text\n",
    "\n",
    "    def canonical_code(self):\n",
    "        '''\n",
    "        Returns the size of the dict as canonical codes\n",
    "        '''\n",
    "        size = 0\n",
    "        for code in self.codes.values():\n",
    "            size += len(bin(len(code))[2:])+len(str(code))\n",
    "        return size\n"
   ]
  },
  {
   "attachments": {},
   "cell_type": "markdown",
   "metadata": {},
   "source": [
    "Приклад роботи:"
   ]
  },
  {
   "cell_type": "code",
   "execution_count": 45,
   "metadata": {},
   "outputs": [
    {
     "name": "stdout",
     "output_type": "stream",
     "text": [
      "Original:  239632\n",
      "Compressed:  135320.25\n",
      "Compression ratio:  56.47 %\n"
     ]
    }
   ],
   "source": [
    "with open('text.txt', 'r', encoding='utf-8') as file:\n",
    "    data = file.read()\n",
    "huffman = Huffman()\n",
    "encoded = huffman.encode(data)\n",
    "print('Original: ', len(data))\n",
    "print('Compressed: ', len(encoded)/8+huffman.canonical_code())\n",
    "print('Compression ratio: ', round(\n",
    "    100*(len(encoded)/8+huffman.canonical_code())/len(data), 2), '%')\n",
    "assert huffman.decode(encoded) == data\n"
   ]
  },
  {
   "attachments": {},
   "cell_type": "markdown",
   "metadata": {},
   "source": [
    "Найкраще застосовувати, коли є велика різниця у частоті символів"
   ]
  },
  {
   "attachments": {},
   "cell_type": "markdown",
   "metadata": {},
   "source": [
    "## Алгоритм LZW"
   ]
  },
  {
   "cell_type": "code",
   "execution_count": 46,
   "metadata": {},
   "outputs": [],
   "source": [
    "\n",
    "class LZW:\n",
    "    \"\"\"\n",
    "    Implements the LZW algotithm\n",
    "    \"\"\"\n",
    "\n",
    "    def __init__(self):\n",
    "        self.saver = {chr(i): i for i in range(256)}\n",
    "        self.num = 256\n",
    "\n",
    "    def encode(self, text: str) -> str:\n",
    "        '''\n",
    "        Compresses the information\n",
    "        '''\n",
    "        compressed_data = []\n",
    "        number = 1\n",
    "        cur_el = text[0]\n",
    "\n",
    "        while number < len(text):\n",
    "            if cur_el + text[number] in self.saver:\n",
    "                cur_el = cur_el + text[number]\n",
    "                number += 1\n",
    "            else:\n",
    "                compressed_data.append(self.saver[cur_el])\n",
    "                self.saver[cur_el + text[number]] = self.num\n",
    "                self.num += 1\n",
    "                cur_el = text[number]\n",
    "                number += 1\n",
    "        compressed_data.append(self.saver[cur_el])\n",
    "        return ' '.join([str(code) for code in compressed_data])\n",
    "\n",
    "    def decode(self, code: str) -> str:\n",
    "        '''\n",
    "        Decompresses the compressed information\n",
    "        '''\n",
    "        new_saver = {value: key for key, value in self.saver.items()}\n",
    "        decoded_text = ''\n",
    "        for element in code.split(' '):\n",
    "            decoded_text += new_saver[int(element)]\n",
    "        return decoded_text\n"
   ]
  },
  {
   "attachments": {},
   "cell_type": "markdown",
   "metadata": {},
   "source": [
    "Приклад роботи:"
   ]
  },
  {
   "cell_type": "code",
   "execution_count": 47,
   "metadata": {},
   "outputs": [
    {
     "name": "stdout",
     "output_type": "stream",
     "text": [
      "Original:  239632\n",
      "Compressed:  291576\n",
      "Compression ratio:  121.68 %\n"
     ]
    }
   ],
   "source": [
    "with open('text.txt', 'r', encoding='utf-8') as file:\n",
    "    data = file.read()\n",
    "lzw = LZW()\n",
    "encoded = lzw.encode(data)\n",
    "print('Original: ', len(data))\n",
    "print('Compressed: ', len(encoded))\n",
    "print('Compression ratio: ', round(100*len(encoded)/len(data), 2), '%')\n",
    "assert lzw.decode(encoded) == data\n"
   ]
  },
  {
   "attachments": {},
   "cell_type": "markdown",
   "metadata": {},
   "source": [
    "Найкраще застосовувати, коли дані часто повторюються"
   ]
  },
  {
   "attachments": {},
   "cell_type": "markdown",
   "metadata": {},
   "source": [
    "## Алгоритм LZ77"
   ]
  },
  {
   "cell_type": "code",
   "execution_count": 48,
   "metadata": {},
   "outputs": [],
   "source": [
    "class LZ77:\n",
    "    '''\n",
    "    Implements the LZ77 algorithm'''\n",
    "\n",
    "    def encode(self, text: str, window_length: int = 32768, max_offset: int = 255) -> list:\n",
    "        '''\n",
    "        Encodes the text as a list of tuples\n",
    "        '''\n",
    "        compressed_data = []\n",
    "        window = ''\n",
    "        while text:\n",
    "            window = window[-window_length:]\n",
    "            length, offset = 1, 0\n",
    "            for i in range(min(len(window)-1, max_offset), -1, -1):\n",
    "                if window[i] == text[0]:\n",
    "                    found_length = self.repetition_length(\n",
    "                        window[i:], text\n",
    "                    )\n",
    "                    if found_length > length:\n",
    "                        offset = len(window)-i\n",
    "                        length = found_length\n",
    "            if offset == 0:\n",
    "                compressed_data.append((0, 1, text[0]))\n",
    "            else:\n",
    "                compressed_data.append((offset, length, ''))\n",
    "            window += text[:length]\n",
    "            text = text[length:]\n",
    "        return compressed_data\n",
    "\n",
    "    def repetition_length(self, window, text):\n",
    "        '''\n",
    "        Finds how long the window repeats for\n",
    "        '''\n",
    "        length = 0\n",
    "        while text:\n",
    "            if window[0] == text[0]:\n",
    "                length += 1\n",
    "                window = window[1:] + text[0]\n",
    "                text = text[1:]\n",
    "            else:\n",
    "                break\n",
    "        return length\n",
    "\n",
    "    def code_to_bytes(self, code: list) -> str:\n",
    "        '''\n",
    "        Compresses the code to bytes\n",
    "        '''\n",
    "        optimized_code = ''\n",
    "        for offset, length, letter in code:\n",
    "            if offset > 0:\n",
    "                optimized_code += f'{offset}/{length}|'\n",
    "            else:\n",
    "                optimized_code += f'{letter}|'\n",
    "        return optimized_code[:-1]\n",
    "\n",
    "    def code_from_bytes(self, bytes_str: str) -> list:\n",
    "        '''\n",
    "        Compresses the code from bytes\n",
    "        '''\n",
    "        code = []\n",
    "        for line in bytes_str.split('|'):\n",
    "            if '/' not in line:\n",
    "                if line == '':\n",
    "                    if code[-1] != (0, 1, '|'):\n",
    "                        code.append((0, 1, '|'))\n",
    "                else:\n",
    "                    code.append((0, 1, line))\n",
    "            else:\n",
    "                offset, length = line.split('/')\n",
    "                if offset == '':\n",
    "                    code.append((0, 1, '/'))\n",
    "                else:\n",
    "                    code.append((int(offset), int(length), ''))\n",
    "        return code\n",
    "\n",
    "    def decode(self, code: list) -> str:\n",
    "        '''\n",
    "        Decodes the text from a list of tuples\n",
    "        '''\n",
    "        decoded_text = \"\"\n",
    "        index = 0\n",
    "        for offset, length, letter in code:\n",
    "            if offset == 0:\n",
    "                index += 1\n",
    "                decoded_text += letter\n",
    "                continue\n",
    "            while length > 0:\n",
    "                decoded_text += decoded_text[index-offset]\n",
    "                index += 1\n",
    "                length -= 1\n",
    "        return decoded_text\n"
   ]
  },
  {
   "attachments": {},
   "cell_type": "markdown",
   "metadata": {},
   "source": [
    "Приклад роботи (при стандартних параметрах):"
   ]
  },
  {
   "cell_type": "code",
   "execution_count": 49,
   "metadata": {},
   "outputs": [
    {
     "name": "stdout",
     "output_type": "stream",
     "text": [
      "Original:  239632\n",
      "Compressed:  678290\n",
      "Compression ratio:  54.05 %\n"
     ]
    }
   ],
   "source": [
    "lz77 = LZ77()\n",
    "with open('text.txt', 'r', encoding='utf-8') as file:\n",
    "    data = file.read()\n",
    "encoded = lz77.encode(data)\n",
    "encoded_compressed = lz77.code_to_bytes(encoded)\n",
    "print('Original: ', len(data))\n",
    "print('Compressed: ', len(encoded_compressed))\n",
    "print('Compression ratio: ', round(100*len(encoded)/len(data), 2), '%')\n",
    "assert lz77.decode(encoded) == data\n",
    "assert lz77.decode(lz77.code_from_bytes(encoded_compressed)) == data\n"
   ]
  },
  {
   "attachments": {},
   "cell_type": "markdown",
   "metadata": {},
   "source": [
    "Приклад роботи (при максимальному стисненні):"
   ]
  },
  {
   "cell_type": "code",
   "execution_count": 50,
   "metadata": {},
   "outputs": [
    {
     "name": "stdout",
     "output_type": "stream",
     "text": [
      "Original:  239632\n",
      "Compressed:  276930\n",
      "Compression ratio:  15.56 %\n"
     ]
    }
   ],
   "source": [
    "lz77 = LZ77()\n",
    "with open('text.txt', 'r', encoding='utf-8') as file:\n",
    "    data = file.read()\n",
    "encoded = lz77.encode(data, window_length=10**100, max_offset=10**100)\n",
    "encoded_compressed = lz77.code_to_bytes(encoded)\n",
    "print('Original: ', len(data))\n",
    "print('Compressed: ', len(encoded_compressed))\n",
    "print('Compression ratio: ', round(100*len(encoded)/len(data), 2), '%')\n",
    "assert lz77.decode(encoded) == data\n",
    "assert lz77.decode(lz77.code_from_bytes(encoded_compressed)) == data\n"
   ]
  },
  {
   "attachments": {},
   "cell_type": "markdown",
   "metadata": {},
   "source": [
    "Найкраще застосовувати, коли підстрічки часто повторюються"
   ]
  },
  {
   "attachments": {},
   "cell_type": "markdown",
   "metadata": {},
   "source": [
    "## Алгоритм Deflate"
   ]
  },
  {
   "cell_type": "code",
   "execution_count": 51,
   "metadata": {},
   "outputs": [],
   "source": [
    "\n",
    "class Inflate:\n",
    "    '''\n",
    "    Implements Inflate and Deflate\n",
    "    '''\n",
    "\n",
    "    def __init__(self) -> None:\n",
    "        self.huffman = None\n",
    "\n",
    "    def encode(self, text: str) -> str:\n",
    "        '''\n",
    "        Encodes the data\n",
    "        '''\n",
    "        lz77 = LZ77()\n",
    "        code = lz77.code_to_bytes(lz77.encode(text))\n",
    "        self.huffman = Huffman()\n",
    "        return self.huffman.encode(code)\n",
    "\n",
    "    def decode(self, code: str) -> str:\n",
    "        '''\n",
    "        Decodes the data\n",
    "        '''\n",
    "        lz77 = LZ77()\n",
    "        lz77_code = self.huffman.decode(code)\n",
    "        return lz77.decode(lz77.code_from_bytes(lz77_code))\n"
   ]
  },
  {
   "attachments": {},
   "cell_type": "markdown",
   "metadata": {},
   "source": [
    "Приклад роботи (примітка: для ефективного стиснення потрібен значно складніша реалізація кодування Гафманом)"
   ]
  },
  {
   "cell_type": "code",
   "execution_count": 52,
   "metadata": {},
   "outputs": [
    {
     "name": "stdout",
     "output_type": "stream",
     "text": [
      "Original:  239632\n",
      "Compressed:  321967.125\n",
      "Compression ratio:  134.36 %\n"
     ]
    }
   ],
   "source": [
    "with open('text.txt', 'r', encoding='utf-8') as file:\n",
    "    data = file.read()\n",
    "inflate = Inflate()\n",
    "encoded = inflate.encode(data)\n",
    "print('Original: ', len(data))\n",
    "print('Compressed: ', len(encoded)/8+inflate.huffman.canonical_code())\n",
    "print('Compression ratio: ', round(\n",
    "    100*(len(encoded)/8+inflate.huffman.canonical_code())/len(data), 2), '%')\n",
    "assert inflate.decode(encoded) == data\n"
   ]
  },
  {
   "attachments": {},
   "cell_type": "markdown",
   "metadata": {},
   "source": [
    "Найкраще застосовувати, коли підстрічки часто повторюються (так само як і LZ77)"
   ]
  },
  {
   "attachments": {},
   "cell_type": "markdown",
   "metadata": {},
   "source": [
    "## Оцінка швидкості"
   ]
  },
  {
   "cell_type": "code",
   "execution_count": 60,
   "metadata": {},
   "outputs": [
    {
     "data": {
      "image/png": "[encoded data removed]",
      "text/plain": [
       "<Figure size 640x480 with 1 Axes>"
      ]
     },
     "metadata": {},
     "output_type": "display_data"
    }
   ],
   "source": [
    "\n",
    "import time\n",
    "import random\n",
    "import matplotlib.pyplot as plt\n",
    "from huffman import Huffman\n",
    "from lz77 import LZ77\n",
    "from lzw import LZW\n",
    "\n",
    "# initialize Huffman and LZW classes\n",
    "huffman = Huffman()\n",
    "lzw = LZW()\n",
    "lz77 = LZ77()\n",
    "inflate = Inflate()\n",
    "\n",
    "input_sizes = [10**i for i in range(1, 7)]\n",
    "\n",
    "huffman_times = []\n",
    "lzw_times = []\n",
    "lz77_times = []\n",
    "inflate_times = []\n",
    "\n",
    "\n",
    "def generate_string(length: int) -> str:\n",
    "    '''\n",
    "    Generates a string for testing\n",
    "    '''\n",
    "    return ''.join(random.choice('abcdefghijklmnopqrstuvwxyz') for _ in range(length))\n",
    "\n",
    "\n",
    "for size in input_sizes:\n",
    "    input_string = generate_string(size)\n",
    "\n",
    "    start_time = time.time()\n",
    "    huffman.encode(input_string)\n",
    "    huffman_times.append(time.time() - start_time)\n",
    "\n",
    "    start_time = time.time()\n",
    "    lzw.encode(input_string)\n",
    "    lzw_times.append(time.time() - start_time)\n",
    "\n",
    "    start_time = time.time()\n",
    "    lz77.code_to_bytes(lz77.encode(input_string))\n",
    "    lz77_times.append(time.time() - start_time)\n",
    "\n",
    "    start_time = time.time()\n",
    "    inflate.encode(input_string)\n",
    "    inflate_times.append(time.time() - start_time)\n",
    "\n",
    "plt.plot(input_sizes, huffman_times, label='Huffman')\n",
    "plt.plot(input_sizes, lzw_times, label='LZW')\n",
    "plt.plot(input_sizes, lz77_times, label='LZ77')\n",
    "plt.plot(input_sizes, inflate_times, label='Inflate')\n",
    "plt.xscale('log')\n",
    "plt.xlabel('Input size')\n",
    "plt.ylabel('Execution time (s)')\n",
    "plt.legend()\n",
    "plt.show()\n"
   ]
  },
  {
   "attachments": {},
   "cell_type": "markdown",
   "metadata": {},
   "source": [
    "## Висновок"
   ]
  },
  {
   "attachments": {},
   "cell_type": "markdown",
   "metadata": {},
   "source": [
    "Найкраще застовувати:\n",
    "\n",
    "Гафмана - коли є кілька символів, які повторюються значно частіше решти\\\n",
    "LZ77 - коли є багато повторень підстрічок\\\n",
    "Deflate - аналогічно до LZ77\\\n",
    "LZW - коли не виконується жодна з цих умов"
   ]
  }
 ],
 "metadata": {
  "kernelspec": {
   "display_name": "Python 3",
   "language": "python",
   "name": "python3"
  },
  "language_info": {
   "codemirror_mode": {
    "name": "ipython",
    "version": 3
   },
   "file_extension": ".py",
   "mimetype": "text/x-python",
   "name": "python",
   "nbconvert_exporter": "python",
   "pygments_lexer": "ipython3",
   "version": "3.10.7"
  },
  "orig_nbformat": 4
 },
 "nbformat": 4,
 "nbformat_minor": 2
}
